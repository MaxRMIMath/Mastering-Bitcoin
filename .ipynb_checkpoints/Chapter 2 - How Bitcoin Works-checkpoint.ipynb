{
 "cells": [
  {
   "cell_type": "markdown",
   "metadata": {
    "slideshow": {
     "slide_type": "slide"
    }
   },
   "source": [
    "# How Bitcoin Works\n",
    "\n",
    "Andreas M. Antonopoulos - *Mastering in Bitcoin*."
   ]
  },
  {
   "cell_type": "markdown",
   "metadata": {
    "slideshow": {
     "slide_type": "slide"
    }
   },
   "source": [
    "### Transactions, Blocks, Mining, and the Blockchain\n",
    "In this chapter, let's see how a transaction becomes \"trusted\" and accepted by the Bitcoin network"
   ]
  },
  {
   "cell_type": "markdown",
   "metadata": {
    "slideshow": {
     "slide_type": "slide"
    }
   },
   "source": [
    "### Bitcoin Overview\n",
    "![image.png](images/mbc2_0201.png)"
   ]
  },
  {
   "cell_type": "markdown",
   "metadata": {
    "slideshow": {
     "slide_type": "slide"
    }
   },
   "source": [
    "### Buying a Cup of Coffee\n",
    "In the previous chapter, Alice got 0.1 BTC from Joe, and she wants to make some transaction now.\n"
   ]
  },
  {
   "cell_type": "markdown",
   "metadata": {
    "slideshow": {
     "slide_type": "subslide"
    }
   },
   "source": [
    "### Buying a Cup of Coffee\n",
    "She wants buy a cup of coffee at Bob's coffee shop, which accepts bitcoin payments.\n",
    "\n"
   ]
  },
  {
   "cell_type": "markdown",
   "metadata": {
    "slideshow": {
     "slide_type": "subslide"
    }
   },
   "source": [
    "### Buying a Cup of Coffee\n",
    "Alice chooses a cup of coffee.\n",
    "```\n",
    "  Total:\n",
    "    $1.50 USD\n",
    "    0.015 BTC\n",
    "```\n",
    "Bob says, \"That's fifteen miilibits (15 mBTC.)\"\n",
    "\n",
    "And then, Bob's system createa special QR code containing a payment request.\n"
   ]
  },
  {
   "cell_type": "markdown",
   "metadata": {
    "slideshow": {
     "slide_type": "subslide"
    }
   },
   "source": [
    "### Buying a Cup of Coffee\n",
    "![impge.png](images/mbc2_0202.png)"
   ]
  },
  {
   "cell_type": "markdown",
   "metadata": {
    "slideshow": {
     "slide_type": "subslide"
    }
   },
   "source": [
    "### Buying a Cup of Coffee\n",
    "```\n",
    "\n",
    "bitcoin:1GdK9UzpHBzqzX2A9JFP3Di4weBwqgmoQA?\n",
    "amount=0.015&\n",
    "label=Bob%27s%20Cafe&\n",
    "message=Purchase%20at%20Bob%27s%20Cafe\n",
    "```\n"
   ]
  },
  {
   "cell_type": "markdown",
   "metadata": {
    "slideshow": {
     "slide_type": "subslide"
    }
   },
   "source": [
    "### Buying a Cup of Coffee\n",
    "```\n",
    "A bitcoin address: \"1GdK9UzpHBzqzX2A9JFP3Di4weBwqgmoQA\"\n",
    "The payment amount: \"0.015\"\n",
    "A label for the recipient address: \"Bob's Cafe\"\n",
    "A description for the payment: \"Purchase at Bob's Cafe\"\n",
    "```\n"
   ]
  },
  {
   "cell_type": "markdown",
   "metadata": {
    "slideshow": {
     "slide_type": "subslide"
    }
   },
   "source": [
    "### Buying a Cup of Coffee\n",
    "Alice scan the QR code, and she select *Send* to authorize the payment."
   ]
  },
  {
   "cell_type": "markdown",
   "metadata": {
    "slideshow": {
     "slide_type": "subslide"
    }
   },
   "source": [
    "### Buying a Cup of Coffee\n",
    "With a few seconds, Bob sees the transaction on the register, completing the transaction."
   ]
  },
  {
   "cell_type": "markdown",
   "metadata": {
    "slideshow": {
     "slide_type": "subslide"
    }
   },
   "source": [
    "### Buying a Cup of Coffee\n",
    "check the transaction here:\n",
    "```\n",
    "https://blockexplorer.com/tx/0627052b6f28912f2703066a912ea577f2ce4da4caa5a5fbd8a57286c345c2f2\n",
    "```\n",
    "or\n",
    "```\n",
    "https://goo.gl/m8o662\n",
    "```"
   ]
  },
  {
   "cell_type": "markdown",
   "metadata": {
    "slideshow": {
     "slide_type": "subslide"
    }
   },
   "source": [
    "### Buying a Cup of Coffee\n",
    "![image](images/mbc2_0203_5.png)"
   ]
  },
  {
   "cell_type": "markdown",
   "metadata": {
    "slideshow": {
     "slide_type": "subslide"
    }
   },
   "source": [
    "### Buying a Cup of Coffee\n",
    "In the folling section, we will see:\n",
    "1. How Alice's wallet constructed transaction\n",
    "2. How transaction was propagated across the network\n",
    "3. How transaction varified\n",
    "4. How Bob can spend that amount in another transaction"
   ]
  },
  {
   "cell_type": "markdown",
   "metadata": {
    "slideshow": {
     "slide_type": "slide"
    }
   },
   "source": [
    "### Bitcoin Transactions\n",
    "In short, a transaction tells the network the bitcoins transfer to another owner."
   ]
  },
  {
   "cell_type": "markdown",
   "metadata": {
    "slideshow": {
     "slide_type": "subslide"
    }
   },
   "source": [
    "![image](images/mbc2_0203_6.png)"
   ]
  },
  {
   "cell_type": "markdown",
   "metadata": {
    "slideshow": {
     "slide_type": "subslide"
    }
   },
   "source": [
    "### Transaction Inputs and Outputs\n",
    "Transactions are like lines in a double-entry bookkeeping ledger.\n",
    "\n",
    "Each transaction contains “inputs,” (debits against a bitcoin account).\n",
    "\n",
    "Each transaction contains “outputs,” (credits add to a bitcoin account).\n",
    "\n",
    "difference between \"inputs\" and \"outputs\" is \"fee\" (for miner)."
   ]
  },
  {
   "cell_type": "markdown",
   "metadata": {
    "slideshow": {
     "slide_type": "subslide"
    }
   },
   "source": [
    "![image](images/mbc2_0203.png)"
   ]
  },
  {
   "cell_type": "markdown",
   "metadata": {
    "slideshow": {
     "slide_type": "subslide"
    }
   },
   "source": [
    "![image](images/mbc2_0203_6.png)"
   ]
  },
  {
   "cell_type": "markdown",
   "metadata": {
    "slideshow": {
     "slide_type": "slide"
    }
   },
   "source": [
    "### Transaction Chains\n",
    "Joe transfer 0.1 BTC to Alice and generate a output. (Which is locked by Alice's key)\n",
    "\n",
    "Alice's payment to Bob's Cafe references to the previous output as input."
   ]
  },
  {
   "cell_type": "markdown",
   "metadata": {
    "slideshow": {
     "slide_type": "subslide"
    }
   },
   "source": [
    "### Transaction Chains\n",
    "Alice's key provides the signature that unlocks the previous transaction outputs.\n",
    "\n",
    "Therefore, she proves she owns this fund."
   ]
  },
  {
   "cell_type": "markdown",
   "metadata": {
    "slideshow": {
     "slide_type": "subslide"
    }
   },
   "source": [
    "### Transaction Chains: Joe to Alice \n",
    "![image](images/mbc2_0204_1.png)"
   ]
  },
  {
   "cell_type": "markdown",
   "metadata": {
    "slideshow": {
     "slide_type": "subslide"
    }
   },
   "source": [
    "### Transaction Chains: Alice to Bob \n",
    "![image](images/mbc2_0203_6.png)"
   ]
  },
  {
   "cell_type": "markdown",
   "metadata": {
    "slideshow": {
     "slide_type": "subslide"
    }
   },
   "source": [
    "### Transaction Chains: Alice to Bob \n",
    "![image](images/mbc2_0204.png)"
   ]
  },
  {
   "cell_type": "markdown",
   "metadata": {
    "slideshow": {
     "slide_type": "subslide"
    }
   },
   "source": [
    "### Transaction Chains\n",
    "The transaction of Alice's payment to Bob's Cafe has two output.\n",
    "1. a output directs a specific value to new owner.\n",
    "2. a output sends back to the original owner as change."
   ]
  },
  {
   "cell_type": "markdown",
   "metadata": {
    "slideshow": {
     "slide_type": "slide"
    }
   },
   "source": [
    "### Common Transaction Forms\n",
    "Payment with change returned.\n",
    "![image](images/mbc2_0205.png)"
   ]
  },
  {
   "cell_type": "markdown",
   "metadata": {
    "slideshow": {
     "slide_type": "subslide"
    }
   },
   "source": [
    "### Common Transaction Forms\n",
    "Exchanging a pile of coins for a single larger currency note.\n",
    "![image](images/mbc2_0206.png)"
   ]
  },
  {
   "cell_type": "markdown",
   "metadata": {
    "slideshow": {
     "slide_type": "subslide"
    }
   },
   "source": [
    "### Common Transaction Forms\n",
    "Distribute funds.\n",
    "![image](images/mbc2_0207.png)"
   ]
  },
  {
   "cell_type": "markdown",
   "metadata": {
    "slideshow": {
     "slide_type": "slide"
    }
   },
   "source": [
    "### Constructing a Transaction\n",
    "After Alice specify a destination and an amount, the rest works happens in the wallet. (can be done offline)"
   ]
  },
  {
   "cell_type": "markdown",
   "metadata": {
    "slideshow": {
     "slide_type": "subslide"
    }
   },
   "source": [
    "### Constructing a Transaction: Getting the Right Inputs\n",
    "Alice's wallet would contain a copy of the transaction output from Joe's transaction. (It can ues API to query the bitcoin network)\n",
    "\n",
    "The following example is API of website \"blockchain.info\", and the values are in satoshis (10^8 satoshis = 1 BTC)"
   ]
  },
  {
   "cell_type": "code",
   "execution_count": 5,
   "metadata": {
    "slideshow": {
     "slide_type": "subslide"
    }
   },
   "outputs": [
    {
     "name": "stdout",
     "output_type": "stream",
     "text": [
      "\n",
      "\n",
      "{\n",
      "    \n",
      "    \"unspent_outputs\":[\n",
      "    \n",
      "        {\n",
      "            \"tx_hash\":\"f2c245c38672a5d8fba5a5caa44dcef277a52e916a0603272f91286f2b052706\",\n",
      "            \"tx_hash_big_endian\":\"0627052b6f28912f2703066a912ea577f2ce4da4caa5a5fbd8a57286c345c2f2\",\n",
      "            \"tx_index\":47854970,\n",
      "            \"tx_output_n\": 1,\n",
      "            \"script\":\"76a9147f9b1a7fb68d60c536c2fd8aeaa53a8f3cc025a888ac\",\n",
      "            \"value\": 8450000,\n",
      "            \"value_hex\": \"0080efd0\",\n",
      "            \"confirmations\":223274\n",
      "        },\n",
      "      \n",
      "        {\n",
      "            \"tx_hash\":\"0365fdc169b964ea5ad3219e12747e9478418fdc8abed2f5fe6d0205c96def29\",\n",
      "            \"tx_hash_big_endian\":\"29ef6dc905026dfef5d2be8adc8f4178947e74129e21d35aea64b969c1fd6503\",\n",
      "            \"tx_index\":71083209,\n",
      "            \"tx_output_n\": 0,\n",
      "            \"script\":\"76a9147f9b1a7fb68d60c536c2fd8aeaa53a8f3cc025a888ac\",\n",
      "            \"value\": 100000,\n",
      "            \"value_hex\": \"0186a0\",\n",
      "            \"confirmations\":167657\n",
      "        },\n",
      "      \n",
      "        {\n",
      "            \"tx_hash\":\"d9717f774daab8d3dd470853204394c82e3c01097479575d6d2ee97d7b3bdfa1\",\n",
      "            \"tx_hash_big_endian\":\"a1df3b7b7de92e6d5d57797409013c2ec8944320530847ddd3b8aa4d777f71d9\",\n",
      "            \"tx_index\":75974855,\n",
      "            \"tx_output_n\": 0,\n",
      "            \"script\":\"76a9147f9b1a7fb68d60c536c2fd8aeaa53a8f3cc025a888ac\",\n",
      "            \"value\": 1000000,\n",
      "            \"value_hex\": \"0f4240\",\n",
      "            \"confirmations\":159816\n",
      "        },\n",
      "      \n",
      "        {\n",
      "            \"tx_hash\":\"3f1df69df90d097981ca9c97ad8b6a32daed345565a433f8c8e472b2dab2ac79\",\n",
      "            \"tx_hash_big_endian\":\"79acb2dab272e4c8f833a4655534edda326a8bad979cca8179090df99df61d3f\",\n",
      "            \"tx_index\":79887883,\n",
      "            \"tx_output_n\": 1,\n",
      "            \"script\":\"76a9147f9b1a7fb68d60c536c2fd8aeaa53a8f3cc025a888ac\",\n",
      "            \"value\": 719787,\n",
      "            \"value_hex\": \"0afbab\",\n",
      "            \"confirmations\":153929\n",
      "        },\n",
      "      \n",
      "        {\n",
      "            \"tx_hash\":\"417bdb6f5db3e830407f94d1a82d1667e738b19da3679b7263ebfb913394efdd\",\n",
      "            \"tx_hash_big_endian\":\"ddef943391fbeb63729b67a39db138e767162da8d1947f4030e8b35d6fdb7b41\",\n",
      "            \"tx_index\":170905487,\n",
      "            \"tx_output_n\": 0,\n",
      "            \"script\":\"76a9147f9b1a7fb68d60c536c2fd8aeaa53a8f3cc025a888ac\",\n",
      "            \"value\": 10000,\n",
      "            \"value_hex\": \"2710\",\n",
      "            \"confirmations\":73738\n",
      "        },\n",
      "      \n",
      "        {\n",
      "            \"tx_hash\":\"d049d6039f9d1cb2625bac294d7465b4b1077bd5bc0e30e01e02b184db524c1f\",\n",
      "            \"tx_hash_big_endian\":\"1f4c52db84b1021ee0300ebcd57b07b1b465744d29ac5b62b21c9d9f03d649d0\",\n",
      "            \"tx_index\":174630347,\n",
      "            \"tx_output_n\": 0,\n",
      "            \"script\":\"76a9147f9b1a7fb68d60c536c2fd8aeaa53a8f3cc025a888ac\",\n",
      "            \"value\": 11100,\n",
      "            \"value_hex\": \"2b5c\",\n",
      "            \"confirmations\":71200\n",
      "        },\n",
      "      \n",
      "        {\n",
      "            \"tx_hash\":\"b8a6470c7a38d0983effed00a3f75c74ba371da1387352f35d1df155851ea8d1\",\n",
      "            \"tx_hash_big_endian\":\"d1a81e8555f11d5df3527338a11d37ba745cf7a300edff3e98d0387a0c47a6b8\",\n",
      "            \"tx_index\":175949432,\n",
      "            \"tx_output_n\": 0,\n",
      "            \"script\":\"76a9147f9b1a7fb68d60c536c2fd8aeaa53a8f3cc025a888ac\",\n",
      "            \"value\": 10000,\n",
      "            \"value_hex\": \"2710\",\n",
      "            \"confirmations\":70294\n",
      "        },\n",
      "      \n",
      "        {\n",
      "            \"tx_hash\":\"a2b9570e26e3991fc999c42dc8c6eea7b06514b61814da1a71b56c6ba2ae651c\",\n",
      "            \"tx_hash_big_endian\":\"1c65aea26b6cb5711ada1418b61465b0a7eec6c82dc499c91f99e3260e57b9a2\",\n",
      "            \"tx_index\":175955161,\n",
      "            \"tx_output_n\": 0,\n",
      "            \"script\":\"76a9147f9b1a7fb68d60c536c2fd8aeaa53a8f3cc025a888ac\",\n",
      "            \"value\": 10000,\n",
      "            \"value_hex\": \"2710\",\n",
      "            \"confirmations\":70285\n",
      "        },\n",
      "      \n",
      "        {\n",
      "            \"tx_hash\":\"05230cb8cd8c6a3788ed41433dfdd68a1a608cc8feb3bc1c29d97ce84bec070e\",\n",
      "            \"tx_hash_big_endian\":\"0e07ec4be87cd9291cbcb3fec88c601a8ad6fd3d4341ed88376a8ccdb80c2305\",\n",
      "            \"tx_index\":175955664,\n",
      "            \"tx_output_n\": 0,\n",
      "            \"script\":\"76a9147f9b1a7fb68d60c536c2fd8aeaa53a8f3cc025a888ac\",\n",
      "            \"value\": 10000,\n",
      "            \"value_hex\": \"2710\",\n",
      "            \"confirmations\":70285\n",
      "        }\n",
      "      \n",
      "    ]\n",
      "}\n"
     ]
    },
    {
     "name": "stderr",
     "output_type": "stream",
     "text": [
      "  % Total    % Received % Xferd  Average Speed   Time    Time     Time  Current\n",
      "                                 Dload  Upload   Total   Spent    Left  Speed\n",
      "\r",
      "  0     0    0     0    0     0      0      0 --:--:-- --:--:-- --:--:--     0\r",
      "100  4138    0  4138    0     0   8116      0 --:--:-- --:--:-- --:--:--  8129\n"
     ]
    }
   ],
   "source": [
    "%%bash\n",
    "curl https://blockchain.info/unspent?active=1Cdid9KFAaatwczBwBttQcwXYCpvK8h7FK"
   ]
  },
  {
   "cell_type": "markdown",
   "metadata": {
    "slideshow": {
     "slide_type": "slide"
    }
   },
   "source": [
    "### Adding the Transaction to the Ledger\n",
    "We will see:\n",
    "1. how a transaction transmitted to the bitcoin network\n",
    "2. how a transaction becomes part of a new block\n",
    "3. how the block is \"mined.\"\n",
    "4. how the new block, once added to the blockchain, is increasingly trusted by the network as more blocks are added.\n",
    " "
   ]
  },
  {
   "cell_type": "markdown",
   "metadata": {
    "slideshow": {
     "slide_type": "subslide"
    }
   },
   "source": [
    "### Transmitting the transaction\n",
    "bitcoin node: any system \"speaking\" the bitcoin protocol\n",
    "\n",
    "Alice's wallet sends the transaction to connected node.\n",
    "\n",
    "Any node receives a new transaction will sends to others connected node.\n",
    "\n",
    "Finally, the transaction will arrive Bob's wallet in a few seconds.\n",
    "\n",
    "Bob's wallet can verify this transaction."
   ]
  },
  {
   "cell_type": "markdown",
   "metadata": {
    "slideshow": {
     "slide_type": "slide"
    }
   },
   "source": [
    "### Overview of Bitcoin Mining\n",
    "Alice's transaction is propagated on the bitcoin network.\n",
    "\n",
    "It should be verified and include in a block (mining)\n",
    "\n",
    "After mining, the transaction will become part of the bitcoin blockchain"
   ]
  },
  {
   "cell_type": "markdown",
   "metadata": {
    "slideshow": {
     "slide_type": "subslide"
    }
   },
   "source": [
    "### Overview of Bitcoin Mining \n",
    "Bitcoin mining serves two proposes:\n",
    "1. Mining node validate all transactions.\n",
    "2. Mining creates new bitcoins."
   ]
  },
  {
   "cell_type": "markdown",
   "metadata": {
    "slideshow": {
     "slide_type": "slide"
    }
   },
   "source": [
    "### Mining Transactions in Blocks\n",
    "When a transaction arrives a miner's node, this transaction are added to this miner's unverified transction pool.\n"
   ]
  },
  {
   "cell_type": "markdown",
   "metadata": {
    "slideshow": {
     "slide_type": "subslide"
    }
   },
   "source": [
    "### Mining Transactions in Blocks\n",
    "As this miner constructs a new block, they add unvarified transactions to new block.\n",
    "\n",
    "And then, the miner tries to prove the validity of the new block (Proof-of Work)"
   ]
  },
  {
   "cell_type": "markdown",
   "metadata": {
    "slideshow": {
     "slide_type": "subslide"
    }
   },
   "source": [
    "### Mining Transactions in Blocks\n",
    "If a miner find a valid block first, he wins the reward and fees in this block.\n",
    "\n",
    "Alice and Bob's transaction is part of block #277316"
   ]
  },
  {
   "cell_type": "markdown",
   "metadata": {
    "slideshow": {
     "slide_type": "subslide"
    }
   },
   "source": [
    "![image](images/mbc2_0203_6.png)"
   ]
  },
  {
   "cell_type": "markdown",
   "metadata": {
    "slideshow": {
     "slide_type": "subslide"
    }
   },
   "source": [
    "### Mining Transactions in Blocks\n",
    "After 19 minute, block #277317 built on top of block #277316.\n",
    "\n",
    "Finally, it beccome a long chain begin from block #0."
   ]
  },
  {
   "cell_type": "markdown",
   "metadata": {
    "slideshow": {
     "slide_type": "subslide"
    }
   },
   "source": [
    "![image](images/mbc2_0209.png)"
   ]
  },
  {
   "cell_type": "markdown",
   "metadata": {
    "slideshow": {
     "slide_type": "subslide"
    }
   },
   "source": [
    "### Mining Transactions in Blocks\n",
    "More details are in Chapter 10."
   ]
  },
  {
   "cell_type": "markdown",
   "metadata": {
    "slideshow": {
     "slide_type": "slide"
    }
   },
   "source": [
    "### Spending the Transaction\n",
    "After a few blocks built on top of Alice and Bob's block, their transaction became more irrevocable.\n",
    "\n",
    "And then, Bob can spend the output."
   ]
  },
  {
   "cell_type": "markdown",
   "metadata": {
    "slideshow": {
     "slide_type": "subslide"
    }
   },
   "source": [
    "### Spending the Transaction\n",
    "If Bob pays Gopesh for a website, the chain of transaction will become longer."
   ]
  },
  {
   "cell_type": "markdown",
   "metadata": {
    "slideshow": {
     "slide_type": "subslide"
    }
   },
   "source": [
    "![image](images/mbc2_0210.png)"
   ]
  },
  {
   "cell_type": "markdown",
   "metadata": {
    "slideshow": {
     "slide_type": "slide"
    }
   },
   "source": [
    "### Review\n",
    "In this chapter, we saw how transactions become a chain, and the chain moves value between owner.\n",
    "\n",
    "We all tracked Alice's transactions, from Joe giving Alice 0.1 BTC to Alice giving Bob 0.015 BTC."
   ]
  },
  {
   "cell_type": "markdown",
   "metadata": {
    "slideshow": {
     "slide_type": "subslide"
    }
   },
   "source": [
    "### Review\n",
    "In the rest chapter, we will look into the technology behind:\n",
    "1. Wallets\n",
    "2. Address\n",
    "3. Signatures\n",
    "4. Transactions\n",
    "5. The Bitcoin Network\n",
    "6. Mining"
   ]
  }
 ],
 "metadata": {
  "celltoolbar": "Slideshow",
  "kernelspec": {
   "display_name": "Python 3",
   "language": "python",
   "name": "python3"
  },
  "language_info": {
   "codemirror_mode": {
    "name": "ipython",
    "version": 3
   },
   "file_extension": ".py",
   "mimetype": "text/x-python",
   "name": "python",
   "nbconvert_exporter": "python",
   "pygments_lexer": "ipython3",
   "version": "3.6.3"
  }
 },
 "nbformat": 4,
 "nbformat_minor": 2
}
