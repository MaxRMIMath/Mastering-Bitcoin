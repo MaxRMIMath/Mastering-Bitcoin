{
 "cells": [
  {
   "cell_type": "markdown",
   "metadata": {
    "slideshow": {
     "slide_type": "slide"
    }
   },
   "source": [
    "# Introduction to Bitcoin\n",
    "\n",
    "Andreas M. Antonopoulos - *Mastering in Bitcoin*."
   ]
  },
  {
   "cell_type": "markdown",
   "metadata": {
    "slideshow": {
     "slide_type": "slide"
    }
   },
   "source": [
    "### What is Bitcoin?\n",
    "Bitcoin is a collection of concepts and technologies that form the basis of a digital money ecosystem."
   ]
  },
  {
   "cell_type": "markdown",
   "metadata": {
    "slideshow": {
     "slide_type": "subslide"
    }
   },
   "source": [
    "### What is Bitcoin?\n",
    "Bitcoin is a distributed, peer-to-peer system ( point-to-point ).\n",
    "\n",
    "That is, there is no “central” server or point of control, every user in Bitcoin network connects to each other."
   ]
  },
  {
   "cell_type": "markdown",
   "metadata": {
    "slideshow": {
     "slide_type": "subslide"
    }
   },
   "source": [
    "### What is Bitcoin?\n",
    "Neither Satoshi Nakamoto ( Bitcoin inventor ) nor anyone else exerts individual control over the bitcoin system, which operates based on :\n",
    "1. fully transparent mathematical principles\n",
    "2. open source code \n",
    "3. and consensus among participants"
   ]
  },
  {
   "cell_type": "markdown",
   "metadata": {
    "slideshow": {
     "slide_type": "subslide"
    }
   },
   "source": [
    "### What is Bitcoin?\n",
    "\n",
    "The bitcoin **protocol** includes built-in algorithms that regulate the mining function across the network.\n",
    "1. The difficulty of **mining** is adjusted so that, on average, there is one **block confirmd** every 10 minutes\n",
    "2. New bitcoin per **block** are halved every 4 years. It is \\$12.5 Bitcoin ( BTC ) one **block** now.\n",
    "3. Total Bitcoin supplies are below 21 million coins.\n",
    "\n"
   ]
  },
  {
   "cell_type": "markdown",
   "metadata": {
    "slideshow": {
     "slide_type": "subslide"
    }
   },
   "source": [
    "### What is Bitcoin?\n",
    "Bitcoin consists of:\n",
    "1. A decentralized peer-to-peer network (the bitcoin **protocol**)\n",
    "2. A public transaction ledger (the **blockchain**)\n",
    "3. A set of rules for independent transaction validation and currency issuance (**consensus rules**)\n",
    "4. A mechanism for reaching global decentralized consensus on the valid blockchain (**Proof-of-Work algorithm**)"
   ]
  },
  {
   "cell_type": "markdown",
   "metadata": {
    "slideshow": {
     "slide_type": "slide"
    }
   },
   "source": [
    "### Bitcoin history\n",
    "\n",
    "2008 AC - “Bitcoin: A Peer-to-Peer Electronic Cash System,” Satoshi Nakamoto \n",
    "\n",
    "2009 AC - The bitcoin network started\n",
    "\n",
    "2010 AC - \\$10,000 BTC for 2 pizzas\n",
    "\n",
    "2011 AC - Satoshi Nakamoto leaving the responsibility of developing the code and network to a thriving group of volunteers.\n",
    "\n",
    "2017 AC - \\$1 BTC > $17,000 USD"
   ]
  },
  {
   "cell_type": "markdown",
   "metadata": {
    "slideshow": {
     "slide_type": "slide"
    }
   },
   "source": [
    "### An example\n",
    "\n",
    "Alice recently heard about bitcoin, and she downloads “Mycelium”, a mobile **wallet** app for Android and installs it on her phone.\n",
    "\n",
    "\n"
   ]
  },
  {
   "cell_type": "markdown",
   "metadata": {
    "slideshow": {
     "slide_type": "subslide"
    }
   },
   "source": [
    "### An example\n",
    "\n",
    "When Alice runs Mycelium for the first time, as with many bitcoin **wallets**, the application automatically creates a new wallet for her."
   ]
  },
  {
   "attachments": {},
   "cell_type": "markdown",
   "metadata": {
    "slideshow": {
     "slide_type": "subslide"
    }
   },
   "source": [
    "![image.png](icon/newaccount.png)"
   ]
  },
  {
   "cell_type": "markdown",
   "metadata": {
    "slideshow": {
     "slide_type": "subslide"
    }
   },
   "source": [
    "### An example\n",
    "Her wallet application randomly generated a **private key** together with its corresponding **bitcoin address**\n",
    "\n",
    "The **bitcoin address** is 1Cdid9KFAaatwczBwBttQcwXYCpvK8h7FK.\n",
    "\n",
    "Next to the address is an address QR code."
   ]
  },
  {
   "cell_type": "markdown",
   "metadata": {
    "slideshow": {
     "slide_type": "subslide"
    }
   },
   "source": [
    "### An example\n",
    "Alice has decided to convert $10 US dollars into bitcoin. \n",
    "\n",
    "She gives Joe $10 in cash, opens her Mycelium **wallet** application, and selects Receive. This displays a QR code with Alice’s first bitcoin **address**.\n",
    "\n",
    "\n"
   ]
  },
  {
   "cell_type": "markdown",
   "metadata": {
    "slideshow": {
     "slide_type": "subslide"
    }
   },
   "source": [
    "### An example\n",
    "\n",
    "Joe enters the amount as \\$10 US dollars and his **wallet** converts it by accessing the most recent exchange rate from an online service.\n",
    "\n",
    "The exchange rate is \\$100 US dollars per bitcoin, so $10 US dollars is worth 0.10 bitcoin ( BTC ), or 100 millibitcoin ( mBTC ) as shown in the screenshot from Joe’s wallet."
   ]
  },
  {
   "attachments": {},
   "cell_type": "markdown",
   "metadata": {
    "slideshow": {
     "slide_type": "subslide"
    }
   },
   "source": [
    "![image.png](icon/the100mBTC.png)"
   ]
  },
  {
   "cell_type": "markdown",
   "metadata": {
    "slideshow": {
     "slide_type": "subslide"
    }
   },
   "source": [
    "### An example\n",
    "After double-checking the address and amount, Joe presses Send to transmit the transaction.\n",
    "\n",
    "A few seconds after Joe’s wallet transmits the transaction, Alice’s wallet will indicate that it is receiving 0.10 BTC. But the address will show the transaction from Joe as **Unconfirmed**."
   ]
  },
  {
   "cell_type": "markdown",
   "metadata": {
    "slideshow": {
     "slide_type": "subslide"
    }
   },
   "source": [
    "### An example\n",
    "A few moment latter, the transaction becomes **confirmed**, and Alice is now the proud owner of 0.10 BTC that she can spend."
   ]
  },
  {
   "cell_type": "markdown",
   "metadata": {
    "slideshow": {
     "slide_type": "slide"
    }
   },
   "source": [
    "### There are still some terms we need to define\n",
    "1. bitcoin wallet\n",
    "2. bitcoin address\n",
    "3. private key\n",
    "4. confirm\n",
    "5. mining\n"
   ]
  },
  {
   "cell_type": "markdown",
   "metadata": {
    "slideshow": {
     "slide_type": "slide"
    }
   },
   "source": [
    "### Bitcoin wallet\n",
    "Bitcoin is a protocol that can be accessed using a client application that speaks the protocol.A “bitcoin wallet” is the most common user interface to the bitcoin system.\n",
    "\n",
    "Just like a web browser is the most common user interface for the HTTP protocol."
   ]
  },
  {
   "cell_type": "markdown",
   "metadata": {
    "slideshow": {
     "slide_type": "subslide"
    }
   },
   "source": [
    "### Bitcoin wallet\n",
    "There are many implementations and brands of bitcoin wallet, just like there are many brands of web browsers. For example:\n",
    "1. Desktop wallet - First type of bitcoin wallet\n",
    "2. Mobile wallet - The most common type of bitcoin wallet. Running on smart phone. Such as Alice's wallet.\n",
    "3. Web wallet - Accessed through a web browser and store the user’s wallet on a server owned by a third party. \n",
    "4. Hardware wallet - Devices that operate a secure self-contained bitcoin wallet on special-purpose hardware. \n",
    "5. Paper wallet - Cold storage. User prints out the keys and storages it without connecting to Internet."
   ]
  },
  {
   "cell_type": "markdown",
   "metadata": {
    "slideshow": {
     "slide_type": "subslide"
    }
   },
   "source": [
    "### Bitcoin wallet\n",
    "Another way to categorize Bitcoin:\n",
    "1. Full-node client - Client that stores the entire history of bitcoin transactions, manages users’ wallets, and can initiate transactions directly on the bitcoin network.\n",
    "2. Lightweight client - SPV. Connecting to full node for information, and keeping keys locally.\n",
    "3. Third-party API client - Interacting with Bitcoin through APIs."
   ]
  },
  {
   "cell_type": "markdown",
   "metadata": {
    "slideshow": {
     "slide_type": "subslide"
    }
   },
   "source": [
    "### Bitcoin wallet\n",
    "There are three most common types of wallets:\n",
    "1. Desktop full client ( Bitcoin implement - Bitcoin Core )\n",
    "2. Mobile lightweight wallet\n",
    "3. Web third-party wallet"
   ]
  },
  {
   "cell_type": "markdown",
   "metadata": {
    "slideshow": {
     "slide_type": "slide"
    }
   },
   "source": [
    "### Bitcoin address\n",
    "\n",
    "Like email addresses, bitcoin addreee can be shared with other bitcoin users who can use them to send bitcoin directly to your wallet. It can be posted anywhere without risking the security of the account."
   ]
  },
  {
   "cell_type": "markdown",
   "metadata": {
    "slideshow": {
     "slide_type": "slide"
    }
   },
   "source": [
    "### Private keys\n",
    "Very important things that should stored carefully without exposing to others. Get more details in Chapter 4."
   ]
  },
  {
   "cell_type": "markdown",
   "metadata": {
    "slideshow": {
     "slide_type": "slide"
    }
   },
   "source": [
    "### Confirm\n",
    "\n",
    "A process that a transaction is included in a block and added to the blockchain, which happens every 10 minutes, on average."
   ]
  },
  {
   "cell_type": "markdown",
   "metadata": {
    "slideshow": {
     "slide_type": "slide"
    }
   },
   "source": [
    "### Mining\n",
    "\n",
    "Mining is the process of adding transaction records to Bitcoin's public ledger ( Blockchain ) of past transactions, and the miner gets some bitcoins as reward .More details in Chapter 10."
   ]
  },
  {
   "cell_type": "markdown",
   "metadata": {
    "slideshow": {
     "slide_type": "slide"
    }
   },
   "source": [
    "### Some advice\n",
    "Learning Bitcoin or blockchain acknowledge with a glossary in hand helps you a lot in underesting terms.\n",
    "\n",
    "https://bitcoin.org/en/developer-glossary"
   ]
  }
 ],
 "metadata": {
  "celltoolbar": "Slideshow",
  "kernelspec": {
   "display_name": "Python 3",
   "language": "python",
   "name": "python3"
  },
  "language_info": {
   "codemirror_mode": {
    "name": "ipython",
    "version": 3
   },
   "file_extension": ".py",
   "mimetype": "text/x-python",
   "name": "python",
   "nbconvert_exporter": "python",
   "pygments_lexer": "ipython3",
   "version": "3.6.3"
  }
 },
 "nbformat": 4,
 "nbformat_minor": 2
}
